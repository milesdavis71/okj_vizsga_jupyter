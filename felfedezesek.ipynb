{
 "cells": [
  {
   "cell_type": "code",
   "execution_count": 77,
   "metadata": {
    "collapsed": true,
    "pycharm": {
     "name": "#%%\n"
    }
   },
   "outputs": [],
   "source": [
    "import pandas as pd\n",
    "\n",
    "header_names = ['ev', 'elem', 'vegyjel', 'rendszam', 'felfedezo']\n",
    "df = pd.read_csv('src/felfedezesek.csv', sep=';', encoding='windows-1250', header=0, names=header_names)"
   ]
  },
  {
   "cell_type": "code",
   "execution_count": 78,
   "outputs": [
    {
     "name": "stdout",
     "output_type": "stream",
     "text": [
      "3. feladat: Elemek szama: 117\n"
     ]
    }
   ],
   "source": [
    "print(f'3. feladat: Elemek szama: {len(df)}')"
   ],
   "metadata": {
    "collapsed": false,
    "pycharm": {
     "name": "#%%\n"
    }
   }
  },
  {
   "cell_type": "code",
   "execution_count": 79,
   "outputs": [
    {
     "name": "stdout",
     "output_type": "stream",
     "text": [
      "4. feladat: Felfedezesek szama az okorban: 9\n"
     ]
    }
   ],
   "source": [
    "felfedezesek_okorban = df[df['ev'].str.contains('kor')]\n",
    "print(f'4. feladat: Felfedezesek szama az okorban: {len(felfedezesek_okorban)}')"
   ],
   "metadata": {
    "collapsed": false,
    "pycharm": {
     "name": "#%%\n"
    }
   }
  },
  {
   "cell_type": "code",
   "execution_count": 80,
   "outputs": [
    {
     "name": "stdout",
     "output_type": "stream",
     "text": [
      "6. feladat\n",
      "\tAz elem vegyjele:  Au\n",
      "\tAz elem neve:  Arany\n",
      "\tRendszám:  79\n",
      "\tFelfedezés éve:  Ókor\n",
      "\tFelfedező:  Ismeretlen\n",
      "\n"
     ]
    }
   ],
   "source": [
    "input_vegyjel = input('5. feladat: Kerek egy vegyjelet: ')\n",
    "while not input_vegyjel.isascii() or len(input_vegyjel)>2:\n",
    "    input_vegyjel = input('5. feladat: Kerek egy vegyjelet: ')\n",
    "else:\n",
    "    input_vegyjel_lower = input_vegyjel.lower()\n",
    "    if df[df['vegyjel'].str.lower().str.contains(input_vegyjel_lower)].empty:\n",
    "        print('Nincs ilyen')\n",
    "    else:\n",
    "        elem = df[df['vegyjel']==input_vegyjel_lower.title()]\n",
    "        uzenet = (f'6. feladat\\n'\n",
    "                    f'\\tAz elem vegyjele: {elem[\"vegyjel\"].to_string(index=False)}\\n'\n",
    "                    f'\\tAz elem neve: {elem[\"elem\"].to_string(index=False)}\\n'\n",
    "                    f'\\tRendszám: {elem[\"rendszam\"].to_string(index=False)}\\n'\n",
    "                    f'\\tFelfedezés éve: {elem[\"ev\"].to_string(index=False)}\\n'\n",
    "                    f'\\tFelfedező: {elem[\"felfedezo\"].to_string(index=False)}\\n'\n",
    "        )\n",
    "        print(uzenet)"
   ],
   "metadata": {
    "collapsed": false,
    "pycharm": {
     "name": "#%%\n"
    }
   }
  },
  {
   "cell_type": "code",
   "execution_count": 81,
   "outputs": [
    {
     "name": "stdout",
     "output_type": "stream",
     "text": [
      "7. feladat: 200 év volt a leghosszabb időszak két elem felfedezése között.\n"
     ]
    }
   ],
   "source": [
    "legtobbelteltev = df[~df['ev'].str.contains('kor')]\n",
    "print(f'7. feladat: {int(legtobbelteltev[\"ev\"].astype(int).diff(periods=1).max())} év volt a leghosszabb időszak két elem felfedezése között.')"
   ],
   "metadata": {
    "collapsed": false,
    "pycharm": {
     "name": "#%%\n"
    }
   }
  },
  {
   "cell_type": "code",
   "execution_count": 82,
   "outputs": [
    {
     "name": "stdout",
     "output_type": "stream",
     "text": [
      "8. feladat: Statisztika\n",
      "   ev  darab\n",
      " 1898      5\n",
      " 1879      4\n",
      " 1808      4\n"
     ]
    }
   ],
   "source": [
    "csakszamok = df[df['ev'].apply(lambda x: x.isnumeric())]\n",
    "haromlegnagyobb = csakszamok['ev'].value_counts().loc[lambda x: x>3]\n",
    "haromlegnagyobb.index.name = 'ev'\n",
    "hoho = haromlegnagyobb.reset_index(name='darab')\n",
    "print(f'8. feladat: Statisztika\\n{hoho.to_string(index=False)}')\n",
    "\n",
    "\n",
    "\n"
   ],
   "metadata": {
    "collapsed": false,
    "pycharm": {
     "name": "#%%\n"
    }
   }
  }
 ],
 "metadata": {
  "kernelspec": {
   "name": "myenv",
   "language": "python",
   "display_name": "Python (myenv)"
  },
  "language_info": {
   "codemirror_mode": {
    "name": "ipython",
    "version": 2
   },
   "file_extension": ".py",
   "mimetype": "text/x-python",
   "name": "python",
   "nbconvert_exporter": "python",
   "pygments_lexer": "ipython2",
   "version": "2.7.6"
  }
 },
 "nbformat": 4,
 "nbformat_minor": 0
}