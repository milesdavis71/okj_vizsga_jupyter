{
 "cells": [
  {
   "cell_type": "code",
   "execution_count": 17,
   "metadata": {
    "collapsed": true,
    "pycharm": {
     "name": "#%%\n"
    }
   },
   "outputs": [],
   "source": [
    "import pandas as pd\n",
    "\n",
    "header_names = ['ev', 'elem', 'vegyjel', 'rendszam', 'felfedezo']\n",
    "df = pd.read_csv('venv/felfedezesek.csv', sep=';', encoding='windows-1250', header=0, names=header_names)"
   ]
  },
  {
   "cell_type": "code",
   "execution_count": 18,
   "outputs": [
    {
     "name": "stdout",
     "output_type": "stream",
     "text": [
      "Elemek szama: 117\n"
     ]
    }
   ],
   "source": [
    "print(f'Elemek szama: {len(df)}')"
   ],
   "metadata": {
    "collapsed": false,
    "pycharm": {
     "name": "#%%\n"
    }
   }
  },
  {
   "cell_type": "code",
   "execution_count": 19,
   "outputs": [
    {
     "name": "stdout",
     "output_type": "stream",
     "text": [
      "Felfedezeek szama az okorban: 9\n"
     ]
    }
   ],
   "source": [
    "felfedezesek_okorban = df[df['ev'].str.contains('kor')]\n",
    "print(f'Felfedezeek szama az okorban: {len(felfedezesek_okorban)}')"
   ],
   "metadata": {
    "collapsed": false,
    "pycharm": {
     "name": "#%%\n"
    }
   }
  },
  {
   "cell_type": "code",
   "execution_count": 19,
   "outputs": [],
   "source": [],
   "metadata": {
    "collapsed": false,
    "pycharm": {
     "name": "#%%\n"
    }
   }
  },
  {
   "cell_type": "code",
   "execution_count": 20,
   "outputs": [
    {
     "name": "stdout",
     "output_type": "stream",
     "text": [
      "Br\n"
     ]
    }
   ],
   "source": [
    "input_vegyjel = input('Adj meg egy vegyjelet')\n",
    "while not input_vegyjel.isascii() or len(input_vegyjel)>2:\n",
    "    input_vegyjel = input('Nem jo, adj egy masik karaktert')\n",
    "\n",
    "else:\n",
    "    input_vegyjel_lower = input_vegyjel.lower()\n",
    "    if df[df['vegyjel'].str.lower().str.contains(input_vegyjel_lower)].empty:\n",
    "        print('Nincs ilyen')\n",
    "    else:\n",
    "        print(df[''])"
   ],
   "metadata": {
    "collapsed": false,
    "pycharm": {
     "name": "#%%\n"
    }
   }
  }
 ],
 "metadata": {
  "kernelspec": {
   "name": "myenv",
   "language": "python",
   "display_name": "Python (myenv)"
  },
  "language_info": {
   "codemirror_mode": {
    "name": "ipython",
    "version": 2
   },
   "file_extension": ".py",
   "mimetype": "text/x-python",
   "name": "python",
   "nbconvert_exporter": "python",
   "pygments_lexer": "ipython2",
   "version": "2.7.6"
  }
 },
 "nbformat": 4,
 "nbformat_minor": 0
}