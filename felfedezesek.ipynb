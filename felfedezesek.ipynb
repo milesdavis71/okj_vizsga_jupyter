{
 "cells": [
  {
   "cell_type": "code",
   "execution_count": 41,
   "metadata": {
    "collapsed": true,
    "pycharm": {
     "name": "#%%\n"
    }
   },
   "outputs": [],
   "source": [
    "import pandas as pd\n",
    "\n",
    "header_names = ['ev', 'elem', 'vegyjel', 'rendszam', 'felfedezo']\n",
    "df = pd.read_csv('src/felfedezesek.csv', sep=';', encoding='windows-1250', header=0, names=header_names)"
   ]
  },
  {
   "cell_type": "code",
   "execution_count": 42,
   "outputs": [
    {
     "name": "stdout",
     "output_type": "stream",
     "text": [
      "Elemek szama: 117\n"
     ]
    }
   ],
   "source": [
    "print(f'Elemek szama: {len(df)}')"
   ],
   "metadata": {
    "collapsed": false,
    "pycharm": {
     "name": "#%%\n"
    }
   }
  },
  {
   "cell_type": "code",
   "execution_count": 43,
   "outputs": [
    {
     "name": "stdout",
     "output_type": "stream",
     "text": [
      "Felfedezeek szama az okorban: 9\n"
     ]
    }
   ],
   "source": [
    "felfedezesek_okorban = df[df['ev'].str.contains('kor')]\n",
    "print(f'Felfedezeek szama az okorban: {len(felfedezesek_okorban)}')"
   ],
   "metadata": {
    "collapsed": false,
    "pycharm": {
     "name": "#%%\n"
    }
   }
  },
  {
   "cell_type": "code",
   "execution_count": 44,
   "outputs": [
    {
     "name": "stdout",
     "output_type": "stream",
     "text": [
      "6. feladat\n",
      "\tAz elem vegyjele:  Br\n",
      "\tAz elem neve:  Bróm\n",
      "\tRendszám:  35\n",
      "\tFelfedezés éve:  1826\n",
      "\tFelfedező:  A. J. Balard\n",
      "\n",
      "200 év volt a leghosszabb időszak két elem felfedezése között\n"
     ]
    }
   ],
   "source": [
    "input_vegyjel = input('Adj meg egy vegyjelet')\n",
    "while not input_vegyjel.isascii() or len(input_vegyjel)>2:\n",
    "    input_vegyjel = input('Nem jo, adj egy masik karaktert')\n",
    "else:\n",
    "    input_vegyjel_lower = input_vegyjel.lower()\n",
    "    if df[df['vegyjel'].str.lower().str.contains(input_vegyjel_lower)].empty:\n",
    "        print('Nincs ilyen')\n",
    "    else:\n",
    "        elem = df[df['vegyjel']==input_vegyjel_lower.title()]\n",
    "        uzenet = (f'6. feladat\\n'\n",
    "                    f'\\tAz elem vegyjele: {elem[\"vegyjel\"].to_string(index=False)}\\n'\n",
    "                    f'\\tAz elem neve: {elem[\"elem\"].to_string(index=False)}\\n'\n",
    "                    f'\\tRendszám: {elem[\"rendszam\"].to_string(index=False)}\\n'\n",
    "                    f'\\tFelfedezés éve: {elem[\"ev\"].to_string(index=False)}\\n'\n",
    "                    f'\\tFelfedező: {elem[\"felfedezo\"].to_string(index=False)}\\n'\n",
    "        )\n",
    "        print(uzenet)\n",
    "legtobbelteltev = df[~df['ev'].str.contains('kor')]\n",
    "print(f'{int(legtobbelteltev[\"ev\"].astype(int).diff(periods=1).max())} év volt a leghosszabb időszak két elem felfedezése között.')"
   ],
   "metadata": {
    "collapsed": false,
    "pycharm": {
     "name": "#%%\n"
    }
   }
  }
 ],
 "metadata": {
  "kernelspec": {
   "name": "myenv",
   "language": "python",
   "display_name": "Python (myenv)"
  },
  "language_info": {
   "codemirror_mode": {
    "name": "ipython",
    "version": 2
   },
   "file_extension": ".py",
   "mimetype": "text/x-python",
   "name": "python",
   "nbconvert_exporter": "python",
   "pygments_lexer": "ipython2",
   "version": "2.7.6"
  }
 },
 "nbformat": 4,
 "nbformat_minor": 0
}