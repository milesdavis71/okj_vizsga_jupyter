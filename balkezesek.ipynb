{
 "cells": [
  {
   "cell_type": "code",
   "execution_count": 1,
   "metadata": {
    "collapsed": true
   },
   "outputs": [
    {
     "name": "stdout",
     "output_type": "stream",
     "text": [
      "3. feladat: 386\n"
     ]
    }
   ],
   "source": [
    "import pandas as pd\n",
    "df = pd.read_csv('src/balkezesek.csv', sep=';')\n",
    "print(f'3. feladat: {len(df)}')"
   ]
  },
  {
   "cell_type": "code",
   "execution_count": 2,
   "outputs": [
    {
     "name": "stdout",
     "output_type": "stream",
     "text": [
      "4. feladat:10      Paul Assenmacher, \n",
      "32     Brent Billingsley, \n",
      "44          Billy Brewer, \n",
      "105         Derrin Ebert, \n",
      "179     Reggie Jefferson, \n",
      "181           Doug Johns, \n",
      "201         Tim Kubinski, \n",
      "249         Alvin Morman, \n",
      "281       J. R. Phillips, \n",
      "293      Roberto Ramirez, \n",
      "327     Anthony Shumaker, \n",
      "329       Steve Sinclair, \n",
      "336    Darryl Strawberry, \n",
      "Name: nev, dtype: object\n",
      "195.0 font\n"
     ]
    }
   ],
   "source": [
    "df = df[df['utolso'].str.contains('1999-10')]\n",
    "print(f'{df[\"nev\"].map(str) + \", \"}')\n",
    "\n",
    "input_ev = input('Adj meg egy számot!')\n",
    "while not 1990 <= int(input_ev) <= 1999:\n",
    "    input_ev = input('Ez se jó')\n",
    "else:\n",
    "    # df_atlag = df[df['elso']]\n",
    "    df = df[(df['elso']<=input_ev) & (df['utolso']>=input_ev)]\n",
    "    print(f'{round(df[\"suly\"].mean(), 2)} font')"
   ],
   "metadata": {
    "collapsed": false,
    "pycharm": {
     "name": "#%%\n"
    }
   }
  }
 ],
 "metadata": {
  "kernelspec": {
   "name": "myenv",
   "language": "python",
   "display_name": "Python (myenv)"
  },
  "language_info": {
   "codemirror_mode": {
    "name": "ipython",
    "version": 2
   },
   "file_extension": ".py",
   "mimetype": "text/x-python",
   "name": "python",
   "nbconvert_exporter": "python",
   "pygments_lexer": "ipython2",
   "version": "2.7.6"
  }
 },
 "nbformat": 4,
 "nbformat_minor": 0
}