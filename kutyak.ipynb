{
 "cells": [
  {
   "cell_type": "code",
   "execution_count": 36,
   "metadata": {
    "collapsed": true,
    "pycharm": {
     "name": "#%%\n"
    }
   },
   "outputs": [
    {
     "ename": "ValueError",
     "evalue": "Must provide an even number of non-keyword arguments",
     "output_type": "error",
     "traceback": [
      "\u001B[1;31m---------------------------------------------------------------------------\u001B[0m",
      "\u001B[1;31mValueError\u001B[0m                                Traceback (most recent call last)",
      "\u001B[1;32m<ipython-input-36-2694122bedc3>\u001B[0m in \u001B[0;36m<module>\u001B[1;34m\u001B[0m\n\u001B[0;32m      1\u001B[0m \u001B[1;32mimport\u001B[0m \u001B[0mpandas\u001B[0m \u001B[1;32mas\u001B[0m \u001B[0mpd\u001B[0m\u001B[1;33m\u001B[0m\u001B[1;33m\u001B[0m\u001B[0m\n\u001B[1;32m----> 2\u001B[1;33m \u001B[0mpd\u001B[0m\u001B[1;33m.\u001B[0m\u001B[0mset_option\u001B[0m\u001B[1;33m(\u001B[0m\u001B[1;33m)\u001B[0m\u001B[1;33m\u001B[0m\u001B[1;33m\u001B[0m\u001B[0m\n\u001B[0m\u001B[0;32m      3\u001B[0m \u001B[0mheader_names_kutyak\u001B[0m \u001B[1;33m=\u001B[0m \u001B[1;33m[\u001B[0m\u001B[1;34m'id'\u001B[0m\u001B[1;33m,\u001B[0m \u001B[1;34m'breed_id'\u001B[0m\u001B[1;33m,\u001B[0m \u001B[1;34m'name_id'\u001B[0m\u001B[1;33m,\u001B[0m \u001B[1;34m'age'\u001B[0m\u001B[1;33m,\u001B[0m \u001B[1;34m'last_med_control'\u001B[0m\u001B[1;33m]\u001B[0m\u001B[1;33m\u001B[0m\u001B[1;33m\u001B[0m\u001B[0m\n\u001B[0;32m      4\u001B[0m \u001B[0mheader_names_kutyanevek\u001B[0m \u001B[1;33m=\u001B[0m \u001B[1;33m[\u001B[0m\u001B[1;34m'name_id'\u001B[0m\u001B[1;33m,\u001B[0m \u001B[1;34m'name'\u001B[0m\u001B[1;33m,\u001B[0m\u001B[1;33m]\u001B[0m\u001B[1;33m\u001B[0m\u001B[1;33m\u001B[0m\u001B[0m\n\u001B[0;32m      5\u001B[0m \u001B[0mheader_names_kutyafajtak\u001B[0m \u001B[1;33m=\u001B[0m \u001B[1;33m[\u001B[0m\u001B[1;34m'breed_id'\u001B[0m\u001B[1;33m,\u001B[0m \u001B[1;34m'breed_name'\u001B[0m\u001B[1;33m,\u001B[0m \u001B[1;34m'original_name'\u001B[0m\u001B[1;33m]\u001B[0m\u001B[1;33m\u001B[0m\u001B[1;33m\u001B[0m\u001B[0m\n",
      "\u001B[1;32m~\\anaconda3\\lib\\site-packages\\pandas\\_config\\config.py\u001B[0m in \u001B[0;36m__call__\u001B[1;34m(self, *args, **kwds)\u001B[0m\n\u001B[0;32m    231\u001B[0m \u001B[1;33m\u001B[0m\u001B[0m\n\u001B[0;32m    232\u001B[0m     \u001B[1;32mdef\u001B[0m \u001B[0m__call__\u001B[0m\u001B[1;33m(\u001B[0m\u001B[0mself\u001B[0m\u001B[1;33m,\u001B[0m \u001B[1;33m*\u001B[0m\u001B[0margs\u001B[0m\u001B[1;33m,\u001B[0m \u001B[1;33m**\u001B[0m\u001B[0mkwds\u001B[0m\u001B[1;33m)\u001B[0m\u001B[1;33m:\u001B[0m\u001B[1;33m\u001B[0m\u001B[1;33m\u001B[0m\u001B[0m\n\u001B[1;32m--> 233\u001B[1;33m         \u001B[1;32mreturn\u001B[0m \u001B[0mself\u001B[0m\u001B[1;33m.\u001B[0m\u001B[0m__func__\u001B[0m\u001B[1;33m(\u001B[0m\u001B[1;33m*\u001B[0m\u001B[0margs\u001B[0m\u001B[1;33m,\u001B[0m \u001B[1;33m**\u001B[0m\u001B[0mkwds\u001B[0m\u001B[1;33m)\u001B[0m\u001B[1;33m\u001B[0m\u001B[1;33m\u001B[0m\u001B[0m\n\u001B[0m\u001B[0;32m    234\u001B[0m \u001B[1;33m\u001B[0m\u001B[0m\n\u001B[0;32m    235\u001B[0m     \u001B[1;33m@\u001B[0m\u001B[0mproperty\u001B[0m\u001B[1;33m\u001B[0m\u001B[1;33m\u001B[0m\u001B[0m\n",
      "\u001B[1;32m~\\anaconda3\\lib\\site-packages\\pandas\\_config\\config.py\u001B[0m in \u001B[0;36m_set_option\u001B[1;34m(*args, **kwargs)\u001B[0m\n\u001B[0;32m    114\u001B[0m     \u001B[0mnargs\u001B[0m \u001B[1;33m=\u001B[0m \u001B[0mlen\u001B[0m\u001B[1;33m(\u001B[0m\u001B[0margs\u001B[0m\u001B[1;33m)\u001B[0m\u001B[1;33m\u001B[0m\u001B[1;33m\u001B[0m\u001B[0m\n\u001B[0;32m    115\u001B[0m     \u001B[1;32mif\u001B[0m \u001B[1;32mnot\u001B[0m \u001B[0mnargs\u001B[0m \u001B[1;32mor\u001B[0m \u001B[0mnargs\u001B[0m \u001B[1;33m%\u001B[0m \u001B[1;36m2\u001B[0m \u001B[1;33m!=\u001B[0m \u001B[1;36m0\u001B[0m\u001B[1;33m:\u001B[0m\u001B[1;33m\u001B[0m\u001B[1;33m\u001B[0m\u001B[0m\n\u001B[1;32m--> 116\u001B[1;33m         \u001B[1;32mraise\u001B[0m \u001B[0mValueError\u001B[0m\u001B[1;33m(\u001B[0m\u001B[1;34m\"Must provide an even number of non-keyword arguments\"\u001B[0m\u001B[1;33m)\u001B[0m\u001B[1;33m\u001B[0m\u001B[1;33m\u001B[0m\u001B[0m\n\u001B[0m\u001B[0;32m    117\u001B[0m \u001B[1;33m\u001B[0m\u001B[0m\n\u001B[0;32m    118\u001B[0m     \u001B[1;31m# default to false\u001B[0m\u001B[1;33m\u001B[0m\u001B[1;33m\u001B[0m\u001B[1;33m\u001B[0m\u001B[0m\n",
      "\u001B[1;31mValueError\u001B[0m: Must provide an even number of non-keyword arguments"
     ]
    }
   ],
   "source": [
    "import pandas as pd\n",
    "header_names_kutyak = ['id', 'breed_id', 'name_id', 'age', 'last_med_control']\n",
    "header_names_kutyanevek = ['name_id', 'name',]\n",
    "header_names_kutyafajtak = ['breed_id', 'breed_name', 'original_name']\n",
    "df_kutyak = pd.read_csv('src/kutyak/Kutyak.csv', sep=';', header=0, names=header_names_kutyak )\n",
    "df_kutyanevek = pd.read_csv('src/kutyak/KutyaNevek.csv', sep=';', header=0, names=header_names_kutyanevek)\n",
    "df_kutyafajtak = pd.read_csv('src/kutyak/KutyaFajtak.csv', sep=';', header=0, names=header_names_kutyafajtak)"
   ]
  },
  {
   "cell_type": "code",
   "execution_count": 31,
   "outputs": [
    {
     "name": "stdout",
     "output_type": "stream",
     "text": [
      "9.06\n"
     ]
    }
   ],
   "source": [
    "print(round(df_kutyak[\"age\"].mean(), 2))"
   ],
   "metadata": {
    "collapsed": false,
    "pycharm": {
     "name": "#%%\n"
    }
   }
  },
  {
   "cell_type": "code",
   "execution_count": 32,
   "outputs": [
    {
     "name": "stdout",
     "output_type": "stream",
     "text": [
      "Legidősebb kutya neve:  Jessy,  Smålandi kopó\n"
     ]
    }
   ],
   "source": [
    "df_merge_kutyak_kutyanevek = pd.merge(df_kutyak, df_kutyafajtak, on='breed_id')\n",
    "df_merge_egybe = pd.merge(df_merge_kutyak_kutyanevek, df_kutyanevek, on='name_id')\n",
    "maxkor = df_merge_egybe['age'].max()\n",
    "df_oregkutyus = df_merge_egybe[df_merge_egybe['age']==maxkor]\n",
    "oregkutyus_neve = df_oregkutyus['name'].to_string(index=False)\n",
    "oregkutyus_fajtaja = df_oregkutyus['breed_name'].to_string(index=False)\n",
    "print(f'Legidősebb kutya neve: {oregkutyus_neve}, {oregkutyus_fajtaja}')"
   ],
   "metadata": {
    "collapsed": false,
    "pycharm": {
     "name": "#%%\n"
    }
   }
  },
  {
   "cell_type": "code",
   "execution_count": 33,
   "outputs": [
    {
     "name": "stdout",
     "output_type": "stream",
     "text": [
      "Tosa inu                     1\n",
      "Bali hegyikutya              1\n",
      "Boszniai drótszőrű kopó      1\n",
      "Fekete-cser mosómedvekopó    1\n",
      "Name: breed_name, dtype: int64\n"
     ]
    }
   ],
   "source": [
    "datum = df_merge_egybe[df_merge_egybe['last_med_control'].str.contains('2018.01.10')]\n",
    "fajtak_szerint_kutyak = datum['breed_name'].value_counts()\n",
    "print(fajtak_szerint_kutyak)"
   ],
   "metadata": {
    "collapsed": false,
    "pycharm": {
     "name": "#%%\n"
    }
   }
  },
  {
   "cell_type": "code",
   "execution_count": 34,
   "outputs": [
    {
     "name": "stdout",
     "output_type": "stream",
     "text": [
      "Legjobban leterhelt nap: 2017.11.27:6 kutya\n"
     ]
    }
   ],
   "source": [
    "legterheltebb_nap_kutyaszamol_s = df_kutyak['last_med_control'].value_counts().max()\n",
    "legterheltebb_nap_meghataroz_s = df_kutyak['last_med_control'][0]\n",
    "print(f'Legjobban leterhelt nap: {legterheltebb_nap_meghataroz_s}:'\n",
    "      f'{legterheltebb_nap_kutyaszamol_s} kutya')"
   ],
   "metadata": {
    "collapsed": false,
    "pycharm": {
     "name": "#%%\n"
    }
   }
  },
  {
   "cell_type": "code",
   "execution_count": null,
   "outputs": [],
   "source": [
    "statisztika = df_kutyanevek['name'].value_counts()\n",
    "statisztika.to_csv('Névstatisztika.txt', sep=';', encoding='utf-8')"
   ],
   "metadata": {
    "collapsed": false,
    "pycharm": {
     "name": "#%%\n"
    }
   }
  }
 ],
 "metadata": {
  "kernelspec": {
   "name": "pycharm-85f4cc35",
   "language": "python",
   "display_name": "PyCharm (okj_vizsga_jupyter)"
  },
  "language_info": {
   "codemirror_mode": {
    "name": "ipython",
    "version": 2
   },
   "file_extension": ".py",
   "mimetype": "text/x-python",
   "name": "python",
   "nbconvert_exporter": "python",
   "pygments_lexer": "ipython2",
   "version": "2.7.6"
  }
 },
 "nbformat": 4,
 "nbformat_minor": 0
}