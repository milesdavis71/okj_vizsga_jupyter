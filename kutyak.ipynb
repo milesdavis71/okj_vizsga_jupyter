{
 "cells": [
  {
   "cell_type": "code",
   "execution_count": 1,
   "metadata": {
    "collapsed": true,
    "pycharm": {
     "name": "#%%\n"
    }
   },
   "outputs": [],
   "source": [
    "import pandas as pd\n",
    "from glob import glob\n",
    "header_names_kutyak = ['id', 'breed_id', 'name_id', 'age', 'last_med_control']\n",
    "header_names_kutyanevek = ['id', 'name',]\n",
    "header_names_kutyafajtak = ['id', 'breed_name', 'original_name']\n",
    "df_kutyak = pd.read_csv('src/kutyak/Kutyak.csv', sep=';', header=0, names=header_names_kutyak )\n",
    "df_kutyanevek = pd.read_csv('src/kutyak/KutyaNevek.csv', sep=';', header=0, names=header_names_kutyanevek)\n",
    "df_kutyafajtak = pd.read_csv('src/kutyak/KutyaFajtak.csv', sep=';', header=0, names=header_names_kutyafajtak)"
   ]
  },
  {
   "cell_type": "code",
   "execution_count": 2,
   "outputs": [
    {
     "name": "stdout",
     "output_type": "stream",
     "text": [
      "9.06\n"
     ]
    }
   ],
   "source": [
    "print(round(df_kutyak[\"age\"].mean(), 2))\n"
   ],
   "metadata": {
    "collapsed": false,
    "pycharm": {
     "name": "#%%\n"
    }
   }
  },
  {
   "cell_type": "code",
   "execution_count": 3,
   "outputs": [
    {
     "ename": "TypeError",
     "evalue": "concat() missing 1 required positional argument: 'objs'",
     "output_type": "error",
     "traceback": [
      "\u001B[1;31m---------------------------------------------------------------------------\u001B[0m",
      "\u001B[1;31mTypeError\u001B[0m                                 Traceback (most recent call last)",
      "\u001B[1;32m<ipython-input-3-9e04dd116f9e>\u001B[0m in \u001B[0;36m<module>\u001B[1;34m\u001B[0m\n\u001B[1;32m----> 1\u001B[1;33m \u001B[0mdata\u001B[0m \u001B[1;33m=\u001B[0m \u001B[0mpd\u001B[0m\u001B[1;33m.\u001B[0m\u001B[0mconcat\u001B[0m\u001B[1;33m(\u001B[0m\u001B[1;33m)\u001B[0m\u001B[1;33m\u001B[0m\u001B[1;33m\u001B[0m\u001B[0m\n\u001B[0m\u001B[0;32m      2\u001B[0m \u001B[0mlegoregebb_kutya\u001B[0m \u001B[1;33m=\u001B[0m \u001B[0mdf_kutyak\u001B[0m\u001B[1;33m.\u001B[0m\u001B[0mc\u001B[0m\u001B[1;33m\u001B[0m\u001B[1;33m\u001B[0m\u001B[0m\n",
      "\u001B[1;31mTypeError\u001B[0m: concat() missing 1 required positional argument: 'objs'"
     ]
    }
   ],
   "source": [
    "data = pd.concat()\n",
    "legoregebb_kutya = df_kutyak.c"
   ],
   "metadata": {
    "collapsed": false,
    "pycharm": {
     "name": "#%%\n"
    }
   }
  }
 ],
 "metadata": {
  "kernelspec": {
   "name": "myenv",
   "language": "python",
   "display_name": "Python (myenv)"
  },
  "language_info": {
   "codemirror_mode": {
    "name": "ipython",
    "version": 2
   },
   "file_extension": ".py",
   "mimetype": "text/x-python",
   "name": "python",
   "nbconvert_exporter": "python",
   "pygments_lexer": "ipython2",
   "version": "2.7.6"
  }
 },
 "nbformat": 4,
 "nbformat_minor": 0
}